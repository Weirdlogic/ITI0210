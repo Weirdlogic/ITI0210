{
  "cells": [
    {
      "cell_type": "markdown",
      "metadata": {
        "id": "DSPCom-KmApV"
      },
      "source": [
        "# Basic Model Training"
      ]
    },
    {
      "cell_type": "markdown",
      "metadata": {
        "id": "PslnzB4Y0xPo"
      },
      "source": [
        "### Setting up"
      ]
    },
    {
      "cell_type": "markdown",
      "source": [
        "**Notebook setup**. Select the \"Edit\" menu, then \"Notebook settings\". Choose \"GPU\" as the hardware accelerator. Check that \"Omit code cell output...\" is unchecked (so that the output is saved).\n",
        "\n"
      ],
      "metadata": {
        "id": "o5O0p0HC03C5"
      }
    },
    {
      "cell_type": "markdown",
      "metadata": {
        "id": "m7KBpffWzlxH"
      },
      "source": [
        "### Pytorch, dataset"
      ]
    },
    {
      "cell_type": "code",
      "execution_count": 2,
      "metadata": {
        "id": "iAve6DCL4JH4"
      },
      "outputs": [],
      "source": [
        "from torchvision import datasets\n",
        "from torchvision.transforms import ToTensor"
      ]
    },
    {
      "cell_type": "code",
      "source": [
        "# Download training data from open datasets.\n",
        "training_data = datasets.FashionMNIST(\n",
        "    root=\"data\",\n",
        "    train=True,\n",
        "    download=True,\n",
        "    transform=ToTensor(),\n",
        ")\n",
        "\n",
        "# Download test data from open datasets.\n",
        "test_data = datasets.FashionMNIST(\n",
        "    root=\"data\",\n",
        "    train=False,\n",
        "    download=True,\n",
        "    transform=ToTensor(),\n",
        ")"
      ],
      "metadata": {
        "id": "BIRVWB6F-QM3",
        "colab": {
          "base_uri": "https://localhost:8080/"
        },
        "outputId": "9aff9b40-7c9c-48a6-b925-f9e9c0ba286b"
      },
      "execution_count": 3,
      "outputs": [
        {
          "output_type": "stream",
          "name": "stderr",
          "text": [
            "100%|██████████| 26.4M/26.4M [00:02<00:00, 10.9MB/s]\n",
            "100%|██████████| 29.5k/29.5k [00:00<00:00, 169kB/s]\n",
            "100%|██████████| 4.42M/4.42M [00:01<00:00, 3.07MB/s]\n",
            "100%|██████████| 5.15k/5.15k [00:00<00:00, 10.4MB/s]\n"
          ]
        }
      ]
    },
    {
      "cell_type": "markdown",
      "metadata": {
        "id": "Oewp-wYg31t9"
      },
      "source": [
        "### Explore the data"
      ]
    },
    {
      "cell_type": "code",
      "source": [
        "print(training_data.data.size())\n",
        "print(training_data.targets.size())\n",
        "print(test_data.data.size())\n",
        "print(test_data.targets.size())"
      ],
      "metadata": {
        "id": "W5hfcRDNQtNF",
        "colab": {
          "base_uri": "https://localhost:8080/"
        },
        "outputId": "e84ac9a5-08a7-4043-ad26-b013c56a4623"
      },
      "execution_count": 4,
      "outputs": [
        {
          "output_type": "stream",
          "name": "stdout",
          "text": [
            "torch.Size([60000, 28, 28])\n",
            "torch.Size([60000])\n",
            "torch.Size([10000, 28, 28])\n",
            "torch.Size([10000])\n"
          ]
        }
      ]
    },
    {
      "cell_type": "markdown",
      "source": [
        "Data of one image"
      ],
      "metadata": {
        "id": "LWeKN_HbRbR5"
      }
    },
    {
      "cell_type": "code",
      "source": [
        "first_image, first_label = training_data[0]\n",
        "first_image = first_image.numpy().squeeze()\n",
        "print(f\"Shape of first image: {first_image.shape}\")\n",
        "print(first_image)"
      ],
      "metadata": {
        "id": "qK5hL0UsRim8",
        "colab": {
          "base_uri": "https://localhost:8080/"
        },
        "outputId": "68614818-f4be-41ba-e27e-725b19be73f4"
      },
      "execution_count": 5,
      "outputs": [
        {
          "output_type": "stream",
          "name": "stdout",
          "text": [
            "Shape of first image: (28, 28)\n",
            "[[0.         0.         0.         0.         0.         0.\n",
            "  0.         0.         0.         0.         0.         0.\n",
            "  0.         0.         0.         0.         0.         0.\n",
            "  0.         0.         0.         0.         0.         0.\n",
            "  0.         0.         0.         0.        ]\n",
            " [0.         0.         0.         0.         0.         0.\n",
            "  0.         0.         0.         0.         0.         0.\n",
            "  0.         0.         0.         0.         0.         0.\n",
            "  0.         0.         0.         0.         0.         0.\n",
            "  0.         0.         0.         0.        ]\n",
            " [0.         0.         0.         0.         0.         0.\n",
            "  0.         0.         0.         0.         0.         0.\n",
            "  0.         0.         0.         0.         0.         0.\n",
            "  0.         0.         0.         0.         0.         0.\n",
            "  0.         0.         0.         0.        ]\n",
            " [0.         0.         0.         0.         0.         0.\n",
            "  0.         0.         0.         0.         0.         0.\n",
            "  0.00392157 0.         0.         0.05098039 0.28627452 0.\n",
            "  0.         0.00392157 0.01568628 0.         0.         0.\n",
            "  0.         0.00392157 0.00392157 0.        ]\n",
            " [0.         0.         0.         0.         0.         0.\n",
            "  0.         0.         0.         0.         0.         0.\n",
            "  0.01176471 0.         0.14117648 0.53333336 0.49803922 0.24313726\n",
            "  0.21176471 0.         0.         0.         0.00392157 0.01176471\n",
            "  0.01568628 0.         0.         0.01176471]\n",
            " [0.         0.         0.         0.         0.         0.\n",
            "  0.         0.         0.         0.         0.         0.\n",
            "  0.02352941 0.         0.4        0.8        0.6901961  0.5254902\n",
            "  0.5647059  0.48235294 0.09019608 0.         0.         0.\n",
            "  0.         0.04705882 0.03921569 0.        ]\n",
            " [0.         0.         0.         0.         0.         0.\n",
            "  0.         0.         0.         0.         0.         0.\n",
            "  0.         0.         0.60784316 0.9254902  0.8117647  0.69803923\n",
            "  0.41960785 0.6117647  0.6313726  0.42745098 0.2509804  0.09019608\n",
            "  0.3019608  0.50980395 0.28235295 0.05882353]\n",
            " [0.         0.         0.         0.         0.         0.\n",
            "  0.         0.         0.         0.         0.         0.00392157\n",
            "  0.         0.27058825 0.8117647  0.8745098  0.85490197 0.84705883\n",
            "  0.84705883 0.6392157  0.49803922 0.4745098  0.47843137 0.57254905\n",
            "  0.5529412  0.34509805 0.6745098  0.25882354]\n",
            " [0.         0.         0.         0.         0.         0.\n",
            "  0.         0.         0.         0.00392157 0.00392157 0.00392157\n",
            "  0.         0.78431374 0.9098039  0.9098039  0.9137255  0.8980392\n",
            "  0.8745098  0.8745098  0.84313726 0.8352941  0.6431373  0.49803922\n",
            "  0.48235294 0.76862746 0.8980392  0.        ]\n",
            " [0.         0.         0.         0.         0.         0.\n",
            "  0.         0.         0.         0.         0.         0.\n",
            "  0.         0.7176471  0.88235295 0.84705883 0.8745098  0.89411765\n",
            "  0.92156863 0.8901961  0.8784314  0.87058824 0.8784314  0.8666667\n",
            "  0.8745098  0.9607843  0.6784314  0.        ]\n",
            " [0.         0.         0.         0.         0.         0.\n",
            "  0.         0.         0.         0.         0.         0.\n",
            "  0.         0.75686276 0.89411765 0.85490197 0.8352941  0.7764706\n",
            "  0.7058824  0.83137256 0.8235294  0.827451   0.8352941  0.8745098\n",
            "  0.8627451  0.9529412  0.7921569  0.        ]\n",
            " [0.         0.         0.         0.         0.         0.\n",
            "  0.         0.         0.         0.00392157 0.01176471 0.\n",
            "  0.04705882 0.85882354 0.8627451  0.83137256 0.85490197 0.7529412\n",
            "  0.6627451  0.8901961  0.8156863  0.85490197 0.8784314  0.83137256\n",
            "  0.8862745  0.77254903 0.81960785 0.20392157]\n",
            " [0.         0.         0.         0.         0.         0.\n",
            "  0.         0.         0.         0.         0.02352941 0.\n",
            "  0.3882353  0.95686275 0.87058824 0.8627451  0.85490197 0.79607844\n",
            "  0.7764706  0.8666667  0.84313726 0.8352941  0.87058824 0.8627451\n",
            "  0.9607843  0.46666667 0.654902   0.21960784]\n",
            " [0.         0.         0.         0.         0.         0.\n",
            "  0.         0.         0.         0.01568628 0.         0.\n",
            "  0.21568628 0.9254902  0.89411765 0.9019608  0.89411765 0.9411765\n",
            "  0.9098039  0.8352941  0.85490197 0.8745098  0.91764706 0.8509804\n",
            "  0.8509804  0.81960785 0.36078432 0.        ]\n",
            " [0.         0.         0.00392157 0.01568628 0.02352941 0.02745098\n",
            "  0.00784314 0.         0.         0.         0.         0.\n",
            "  0.92941177 0.8862745  0.8509804  0.8745098  0.87058824 0.85882354\n",
            "  0.87058824 0.8666667  0.84705883 0.8745098  0.8980392  0.84313726\n",
            "  0.85490197 1.         0.3019608  0.        ]\n",
            " [0.         0.01176471 0.         0.         0.         0.\n",
            "  0.         0.         0.         0.24313726 0.5686275  0.8\n",
            "  0.89411765 0.8117647  0.8352941  0.8666667  0.85490197 0.8156863\n",
            "  0.827451   0.85490197 0.8784314  0.8745098  0.85882354 0.84313726\n",
            "  0.8784314  0.95686275 0.62352943 0.        ]\n",
            " [0.         0.         0.         0.         0.07058824 0.17254902\n",
            "  0.32156864 0.41960785 0.7411765  0.89411765 0.8627451  0.87058824\n",
            "  0.8509804  0.8862745  0.78431374 0.8039216  0.827451   0.9019608\n",
            "  0.8784314  0.91764706 0.6901961  0.7372549  0.98039216 0.972549\n",
            "  0.9137255  0.93333334 0.84313726 0.        ]\n",
            " [0.         0.22352941 0.73333335 0.8156863  0.8784314  0.8666667\n",
            "  0.8784314  0.8156863  0.8        0.8392157  0.8156863  0.81960785\n",
            "  0.78431374 0.62352943 0.9607843  0.75686276 0.80784315 0.8745098\n",
            "  1.         1.         0.8666667  0.91764706 0.8666667  0.827451\n",
            "  0.8627451  0.9098039  0.9647059  0.        ]\n",
            " [0.01176471 0.7921569  0.89411765 0.8784314  0.8666667  0.827451\n",
            "  0.827451   0.8392157  0.8039216  0.8039216  0.8039216  0.8627451\n",
            "  0.9411765  0.3137255  0.5882353  1.         0.8980392  0.8666667\n",
            "  0.7372549  0.6039216  0.7490196  0.8235294  0.8        0.81960785\n",
            "  0.87058824 0.89411765 0.88235295 0.        ]\n",
            " [0.38431373 0.9137255  0.7764706  0.8235294  0.87058824 0.8980392\n",
            "  0.8980392  0.91764706 0.9764706  0.8627451  0.7607843  0.84313726\n",
            "  0.8509804  0.94509804 0.25490198 0.28627452 0.41568628 0.45882353\n",
            "  0.65882355 0.85882354 0.8666667  0.84313726 0.8509804  0.8745098\n",
            "  0.8745098  0.8784314  0.8980392  0.11372549]\n",
            " [0.29411766 0.8        0.83137256 0.8        0.75686276 0.8039216\n",
            "  0.827451   0.88235295 0.84705883 0.7254902  0.77254903 0.80784315\n",
            "  0.7764706  0.8352941  0.9411765  0.7647059  0.8901961  0.9607843\n",
            "  0.9372549  0.8745098  0.85490197 0.83137256 0.81960785 0.87058824\n",
            "  0.8627451  0.8666667  0.9019608  0.2627451 ]\n",
            " [0.1882353  0.79607844 0.7176471  0.7607843  0.8352941  0.77254903\n",
            "  0.7254902  0.74509805 0.7607843  0.7529412  0.7921569  0.8392157\n",
            "  0.85882354 0.8666667  0.8627451  0.9254902  0.88235295 0.84705883\n",
            "  0.78039217 0.80784315 0.7294118  0.70980394 0.69411767 0.6745098\n",
            "  0.70980394 0.8039216  0.80784315 0.4509804 ]\n",
            " [0.         0.47843137 0.85882354 0.75686276 0.7019608  0.67058825\n",
            "  0.7176471  0.76862746 0.8        0.8235294  0.8352941  0.8117647\n",
            "  0.827451   0.8235294  0.78431374 0.76862746 0.7607843  0.7490196\n",
            "  0.7647059  0.7490196  0.7764706  0.7529412  0.6901961  0.6117647\n",
            "  0.654902   0.69411767 0.8235294  0.36078432]\n",
            " [0.         0.         0.2901961  0.7411765  0.83137256 0.7490196\n",
            "  0.6862745  0.6745098  0.6862745  0.70980394 0.7254902  0.7372549\n",
            "  0.7411765  0.7372549  0.75686276 0.7764706  0.8        0.81960785\n",
            "  0.8235294  0.8235294  0.827451   0.7372549  0.7372549  0.7607843\n",
            "  0.7529412  0.84705883 0.6666667  0.        ]\n",
            " [0.00784314 0.         0.         0.         0.25882354 0.78431374\n",
            "  0.87058824 0.92941177 0.9372549  0.9490196  0.9647059  0.9529412\n",
            "  0.95686275 0.8666667  0.8627451  0.75686276 0.7490196  0.7019608\n",
            "  0.7137255  0.7137255  0.70980394 0.6901961  0.6509804  0.65882355\n",
            "  0.3882353  0.22745098 0.         0.        ]\n",
            " [0.         0.         0.         0.         0.         0.\n",
            "  0.         0.15686275 0.23921569 0.17254902 0.28235295 0.16078432\n",
            "  0.13725491 0.         0.         0.         0.         0.\n",
            "  0.         0.         0.         0.         0.         0.\n",
            "  0.         0.         0.         0.        ]\n",
            " [0.         0.         0.         0.         0.         0.\n",
            "  0.         0.         0.         0.         0.         0.\n",
            "  0.         0.         0.         0.         0.         0.\n",
            "  0.         0.         0.         0.         0.         0.\n",
            "  0.         0.         0.         0.        ]\n",
            " [0.         0.         0.         0.         0.         0.\n",
            "  0.         0.         0.         0.         0.         0.\n",
            "  0.         0.         0.         0.         0.         0.\n",
            "  0.         0.         0.         0.         0.         0.\n",
            "  0.         0.         0.         0.        ]]\n"
          ]
        }
      ]
    },
    {
      "cell_type": "markdown",
      "source": [
        "And this is what the image looks like (a shoe?)"
      ],
      "metadata": {
        "id": "6hIlZOVySIxV"
      }
    },
    {
      "cell_type": "code",
      "source": [
        "import matplotlib.pyplot as plt\n",
        "plt.imshow(first_image, cmap='gray')"
      ],
      "metadata": {
        "id": "sCZoxyQcSL3P",
        "colab": {
          "base_uri": "https://localhost:8080/",
          "height": 447
        },
        "outputId": "d74053d6-4b9c-4bab-b8d4-bc442f58876d"
      },
      "execution_count": 6,
      "outputs": [
        {
          "output_type": "execute_result",
          "data": {
            "text/plain": [
              "<matplotlib.image.AxesImage at 0x7c3b90b5f650>"
            ]
          },
          "metadata": {},
          "execution_count": 6
        },
        {
          "output_type": "display_data",
          "data": {
            "text/plain": [
              "<Figure size 640x480 with 1 Axes>"
            ],
            "image/png": "[encoded data removed]"
          },
          "metadata": {}
        }
      ]
    },
    {
      "cell_type": "markdown",
      "source": [
        "The label of the image (see the list of labels at https://github.com/zalandoresearch/fashion-mnist)"
      ],
      "metadata": {
        "id": "OiejkO3OTh0S"
      }
    },
    {
      "cell_type": "code",
      "source": [
        "print(f\"Label of first image: {first_label}\")"
      ],
      "metadata": {
        "id": "IGyqRUNMTuU3",
        "colab": {
          "base_uri": "https://localhost:8080/"
        },
        "outputId": "8e2c2b04-a8a8-468a-9f62-bdb6b8592714"
      },
      "execution_count": 7,
      "outputs": [
        {
          "output_type": "stream",
          "name": "stdout",
          "text": [
            "Label of first image: 9\n"
          ]
        }
      ]
    },
    {
      "cell_type": "markdown",
      "source": [
        "Put you code to create, train and test the model below"
      ],
      "metadata": {
        "id": "FRLdpO4AWXYs"
      }
    },
    {
      "cell_type": "code",
      "source": [
        "import torch\n",
        "\n",
        "device = (\n",
        "    \"cuda\"\n",
        "    if torch.cuda.is_available()\n",
        "    else \"mps\"\n",
        "    if torch.backends.mps.is_available()\n",
        "    else \"cpu\"\n",
        ")\n",
        "print(f\"Using {device} device\")"
      ],
      "metadata": {
        "id": "NW3_QC9d59d5",
        "colab": {
          "base_uri": "https://localhost:8080/"
        },
        "outputId": "c24c36ef-92ed-48f7-e504-175351604500"
      },
      "execution_count": 8,
      "outputs": [
        {
          "output_type": "stream",
          "name": "stdout",
          "text": [
            "Using cuda device\n"
          ]
        }
      ]
    },
    {
      "cell_type": "code",
      "source": [
        "from torch import nn\n",
        "import torch.nn.functional as F\n",
        "\n",
        "class CNN(nn.Module):\n",
        "    def __init__(self):\n",
        "        super().__init__()\n",
        "        self.cnn_stack = nn.Sequential(\n",
        "            nn.Conv2d(in_channels=1, out_channels=32, kernel_size=3, padding=1),\n",
        "            nn.ReLU(),\n",
        "            nn.MaxPool2d(kernel_size=2, stride=2),\n",
        "            nn.Conv2d(in_channels=32, out_channels=64, kernel_size=3, padding=1),\n",
        "            nn.ReLU(),\n",
        "            nn.MaxPool2d(kernel_size=2, stride=2),\n",
        "            nn.Conv2d(in_channels=64, out_channels=64, kernel_size=3, padding=1),\n",
        "            nn.ReLU(),\n",
        "            nn.Flatten(),\n",
        "            nn.Linear(64 * 7 * 7, 64),\n",
        "            nn.ReLU(),\n",
        "            nn.Linear(64, 10)\n",
        "        )\n",
        "    def forward(self, x):\n",
        "        return self.cnn_stack(x)\n",
        "\n",
        "model = CNN().to(device)"
      ],
      "metadata": {
        "id": "FwOw0DpiV73y"
      },
      "execution_count": 9,
      "outputs": []
    },
    {
      "cell_type": "code",
      "source": [
        "from torch.utils.data import DataLoader\n",
        "\n",
        "batch_size = 64\n",
        "\n",
        "train_dataloader = DataLoader(training_data, batch_size=batch_size)\n",
        "test_dataloader = DataLoader(test_data, batch_size=batch_size)\n",
        "\n",
        "for X, y in test_dataloader:\n",
        "    print(f\"Shape of X [N, C, H, W]: {X.shape}\")\n",
        "    print(f\"Shape of y: {y.shape} {y.dtype}\")\n",
        "    break"
      ],
      "metadata": {
        "colab": {
          "base_uri": "https://localhost:8080/"
        },
        "id": "_BDJXYUHV_Yy",
        "outputId": "c84b7a9d-24db-4cc3-80d2-0ae4069b326c"
      },
      "execution_count": 10,
      "outputs": [
        {
          "output_type": "stream",
          "name": "stdout",
          "text": [
            "Shape of X [N, C, H, W]: torch.Size([64, 1, 28, 28])\n",
            "Shape of y: torch.Size([64]) torch.int64\n"
          ]
        }
      ]
    },
    {
      "cell_type": "code",
      "source": [
        "import torch.optim as optim\n",
        "\n",
        "loss_fn = nn.CrossEntropyLoss()\n",
        "optimizer = optim.Adam(model.parameters())\n",
        "\n",
        "def train(dataloader, model, loss_fn, optimizer):\n",
        "    size = len(dataloader.dataset)\n",
        "    model.train()\n",
        "    for batch, (X, y) in enumerate(dataloader):\n",
        "        X, y = X.to(device), y.to(device)\n",
        "\n",
        "        # Compute prediction error\n",
        "        pred = model(X)\n",
        "        loss = loss_fn(pred, y)\n",
        "\n",
        "        # Backpropagation\n",
        "        loss.backward()\n",
        "        optimizer.step()\n",
        "        optimizer.zero_grad()\n",
        "\n",
        "        if batch % 100 == 0:\n",
        "            loss, current = loss.item(), (batch + 1) * len(X)\n",
        "            print(f\"loss: {loss:>7f}  {current:>5d}/{size:>5d}\")"
      ],
      "metadata": {
        "id": "ArkoLA12WDq_"
      },
      "execution_count": 11,
      "outputs": []
    },
    {
      "cell_type": "code",
      "source": [
        "epochs = 15\n",
        "for t in range(epochs):\n",
        "    print(f\"Epoch {t+1}\\n-------------------------------\")\n",
        "    train(train_dataloader, model, loss_fn, optimizer)\n",
        "print(\"Done!\")"
      ],
      "metadata": {
        "colab": {
          "base_uri": "https://localhost:8080/"
        },
        "id": "T9mgspu_WGrL",
        "outputId": "b1b0d3c8-1086-4ff5-875c-1f9ba71db1de"
      },
      "execution_count": 12,
      "outputs": [
        {
          "output_type": "stream",
          "name": "stdout",
          "text": [
            "Epoch 1\n",
            "-------------------------------\n",
            "loss: 2.301435     64/60000\n",
            "loss: 0.701172   6464/60000\n",
            "loss: 0.367494  12864/60000\n",
            "loss: 0.563256  19264/60000\n",
            "loss: 0.512048  25664/60000\n",
            "loss: 0.466373  32064/60000\n",
            "loss: 0.380199  38464/60000\n",
            "loss: 0.548093  44864/60000\n",
            "loss: 0.509356  51264/60000\n",
            "loss: 0.425212  57664/60000\n",
            "Epoch 2\n",
            "-------------------------------\n",
            "loss: 0.287670     64/60000\n",
            "loss: 0.343245   6464/60000\n",
            "loss: 0.210512  12864/60000\n",
            "loss: 0.405658  19264/60000\n",
            "loss: 0.393269  25664/60000\n",
            "loss: 0.377794  32064/60000\n",
            "loss: 0.295743  38464/60000\n",
            "loss: 0.429720  44864/60000\n",
            "loss: 0.394888  51264/60000\n",
            "loss: 0.323584  57664/60000\n",
            "Epoch 3\n",
            "-------------------------------\n",
            "loss: 0.238973     64/60000\n",
            "loss: 0.269204   6464/60000\n",
            "loss: 0.175970  12864/60000\n",
            "loss: 0.304099  19264/60000\n",
            "loss: 0.312860  25664/60000\n",
            "loss: 0.369090  32064/60000\n",
            "loss: 0.259960  38464/60000\n",
            "loss: 0.371326  44864/60000\n",
            "loss: 0.322334  51264/60000\n",
            "loss: 0.278086  57664/60000\n",
            "Epoch 4\n",
            "-------------------------------\n",
            "loss: 0.231057     64/60000\n",
            "loss: 0.237818   6464/60000\n",
            "loss: 0.159991  12864/60000\n",
            "loss: 0.250329  19264/60000\n",
            "loss: 0.279753  25664/60000\n",
            "loss: 0.340157  32064/60000\n",
            "loss: 0.245527  38464/60000\n",
            "loss: 0.344285  44864/60000\n",
            "loss: 0.283118  51264/60000\n",
            "loss: 0.208281  57664/60000\n",
            "Epoch 5\n",
            "-------------------------------\n",
            "loss: 0.190761     64/60000\n",
            "loss: 0.157578   6464/60000\n",
            "loss: 0.138438  12864/60000\n",
            "loss: 0.184363  19264/60000\n",
            "loss: 0.273173  25664/60000\n",
            "loss: 0.305187  32064/60000\n",
            "loss: 0.235726  38464/60000\n",
            "loss: 0.281768  44864/60000\n",
            "loss: 0.238092  51264/60000\n",
            "loss: 0.147756  57664/60000\n",
            "Epoch 6\n",
            "-------------------------------\n",
            "loss: 0.167830     64/60000\n",
            "loss: 0.138097   6464/60000\n",
            "loss: 0.127398  12864/60000\n",
            "loss: 0.162840  19264/60000\n",
            "loss: 0.241092  25664/60000\n",
            "loss: 0.277280  32064/60000\n",
            "loss: 0.207947  38464/60000\n",
            "loss: 0.248621  44864/60000\n",
            "loss: 0.216626  51264/60000\n",
            "loss: 0.110889  57664/60000\n",
            "Epoch 7\n",
            "-------------------------------\n",
            "loss: 0.156702     64/60000\n",
            "loss: 0.136512   6464/60000\n",
            "loss: 0.102366  12864/60000\n",
            "loss: 0.133598  19264/60000\n",
            "loss: 0.217066  25664/60000\n",
            "loss: 0.253985  32064/60000\n",
            "loss: 0.171235  38464/60000\n",
            "loss: 0.212495  44864/60000\n",
            "loss: 0.196957  51264/60000\n",
            "loss: 0.078414  57664/60000\n",
            "Epoch 8\n",
            "-------------------------------\n",
            "loss: 0.103395     64/60000\n",
            "loss: 0.115065   6464/60000\n",
            "loss: 0.080087  12864/60000\n",
            "loss: 0.156572  19264/60000\n",
            "loss: 0.232646  25664/60000\n",
            "loss: 0.218304  32064/60000\n",
            "loss: 0.175438  38464/60000\n",
            "loss: 0.223036  44864/60000\n",
            "loss: 0.162555  51264/60000\n",
            "loss: 0.059816  57664/60000\n",
            "Epoch 9\n",
            "-------------------------------\n",
            "loss: 0.122974     64/60000\n",
            "loss: 0.106658   6464/60000\n",
            "loss: 0.076407  12864/60000\n",
            "loss: 0.119583  19264/60000\n",
            "loss: 0.199118  25664/60000\n",
            "loss: 0.178887  32064/60000\n",
            "loss: 0.144632  38464/60000\n",
            "loss: 0.184364  44864/60000\n",
            "loss: 0.113914  51264/60000\n",
            "loss: 0.046506  57664/60000\n",
            "Epoch 10\n",
            "-------------------------------\n",
            "loss: 0.101841     64/60000\n",
            "loss: 0.080302   6464/60000\n",
            "loss: 0.082693  12864/60000\n",
            "loss: 0.099422  19264/60000\n",
            "loss: 0.152503  25664/60000\n",
            "loss: 0.181615  32064/60000\n",
            "loss: 0.156039  38464/60000\n",
            "loss: 0.178589  44864/60000\n",
            "loss: 0.087585  51264/60000\n",
            "loss: 0.045377  57664/60000\n",
            "Epoch 11\n",
            "-------------------------------\n",
            "loss: 0.126788     64/60000\n",
            "loss: 0.062408   6464/60000\n",
            "loss: 0.083575  12864/60000\n",
            "loss: 0.106226  19264/60000\n",
            "loss: 0.122341  25664/60000\n",
            "loss: 0.171055  32064/60000\n",
            "loss: 0.128961  38464/60000\n",
            "loss: 0.168051  44864/60000\n",
            "loss: 0.071444  51264/60000\n",
            "loss: 0.045153  57664/60000\n",
            "Epoch 12\n",
            "-------------------------------\n",
            "loss: 0.158500     64/60000\n",
            "loss: 0.088617   6464/60000\n",
            "loss: 0.061181  12864/60000\n",
            "loss: 0.042316  19264/60000\n",
            "loss: 0.144087  25664/60000\n",
            "loss: 0.171792  32064/60000\n",
            "loss: 0.103185  38464/60000\n",
            "loss: 0.142083  44864/60000\n",
            "loss: 0.121832  51264/60000\n",
            "loss: 0.045053  57664/60000\n",
            "Epoch 13\n",
            "-------------------------------\n",
            "loss: 0.103135     64/60000\n",
            "loss: 0.047005   6464/60000\n",
            "loss: 0.035758  12864/60000\n",
            "loss: 0.034464  19264/60000\n",
            "loss: 0.152550  25664/60000\n",
            "loss: 0.146071  32064/60000\n",
            "loss: 0.105360  38464/60000\n",
            "loss: 0.141967  44864/60000\n",
            "loss: 0.068363  51264/60000\n",
            "loss: 0.047400  57664/60000\n",
            "Epoch 14\n",
            "-------------------------------\n",
            "loss: 0.137365     64/60000\n",
            "loss: 0.047113   6464/60000\n",
            "loss: 0.028232  12864/60000\n",
            "loss: 0.030419  19264/60000\n",
            "loss: 0.074322  25664/60000\n",
            "loss: 0.118194  32064/60000\n",
            "loss: 0.167775  38464/60000\n",
            "loss: 0.094119  44864/60000\n",
            "loss: 0.080058  51264/60000\n",
            "loss: 0.029926  57664/60000\n",
            "Epoch 15\n",
            "-------------------------------\n",
            "loss: 0.081247     64/60000\n",
            "loss: 0.094086   6464/60000\n",
            "loss: 0.013554  12864/60000\n",
            "loss: 0.043578  19264/60000\n",
            "loss: 0.088771  25664/60000\n",
            "loss: 0.102870  32064/60000\n",
            "loss: 0.076153  38464/60000\n",
            "loss: 0.055804  44864/60000\n",
            "loss: 0.069719  51264/60000\n",
            "loss: 0.030698  57664/60000\n",
            "Done!\n"
          ]
        }
      ]
    },
    {
      "cell_type": "code",
      "source": [
        "model.eval()\n",
        "\n",
        "all_outputs = []\n",
        "all_labels = []\n",
        "\n",
        "with torch.no_grad():\n",
        "    for inputs, labels in test_dataloader:\n",
        "        outputs = model(inputs.to(device))\n",
        "        all_outputs.append(outputs)\n",
        "        all_labels.append(labels)\n",
        "\n",
        "all_outputs = torch.cat(all_outputs, dim=0)\n",
        "all_labels = torch.cat(all_labels, dim=0)"
      ],
      "metadata": {
        "id": "FrRyPZpQWqFC"
      },
      "execution_count": 13,
      "outputs": []
    },
    {
      "cell_type": "code",
      "source": [
        "print(all_outputs[0])\n",
        "print(torch.sum(all_outputs[0]))"
      ],
      "metadata": {
        "colab": {
          "base_uri": "https://localhost:8080/"
        },
        "id": "m0ghiXpaWtY0",
        "outputId": "08e6683c-731f-4b02-ac66-b6493225c714"
      },
      "execution_count": 14,
      "outputs": [
        {
          "output_type": "stream",
          "name": "stdout",
          "text": [
            "tensor([-22.2931,  -5.1134, -22.8871, -13.0950, -12.6773, -12.4961,  -5.8991,\n",
            "          3.8274, -14.5158,  16.3066], device='cuda:0')\n",
            "tensor(-88.8429, device='cuda:0')\n"
          ]
        }
      ]
    },
    {
      "cell_type": "code",
      "source": [
        "first_image, _ = test_data[0]\n",
        "first_image = first_image.numpy().squeeze()\n",
        "plt.imshow(first_image, cmap='gray')"
      ],
      "metadata": {
        "colab": {
          "base_uri": "https://localhost:8080/",
          "height": 447
        },
        "id": "UWx9oR1SWvGS",
        "outputId": "82577850-24d4-4bd1-fd84-d57f2c263434"
      },
      "execution_count": 15,
      "outputs": [
        {
          "output_type": "execute_result",
          "data": {
            "text/plain": [
              "<matplotlib.image.AxesImage at 0x7c3b90a14c10>"
            ]
          },
          "metadata": {},
          "execution_count": 15
        },
        {
          "output_type": "display_data",
          "data": {
            "text/plain": [
              "<Figure size 640x480 with 1 Axes>"
            ],
            "image/png": "[encoded data removed]"
          },
          "metadata": {}
        }
      ]
    },
    {
      "cell_type": "code",
      "source": [
        "print(torch.argmax(all_outputs[0]))\n",
        "print(all_labels[0])"
      ],
      "metadata": {
        "colab": {
          "base_uri": "https://localhost:8080/"
        },
        "id": "UBzoMw9-Wxf7",
        "outputId": "b5cb98cb-294c-429a-d538-69074deea571"
      },
      "execution_count": 16,
      "outputs": [
        {
          "output_type": "stream",
          "name": "stdout",
          "text": [
            "tensor(9, device='cuda:0')\n",
            "tensor(9)\n"
          ]
        }
      ]
    },
    {
      "cell_type": "code",
      "source": [
        "all_preds = torch.argmax(all_outputs, dim=1)\n",
        "correct = torch.sum(all_preds.cpu() == all_labels)\n",
        "print(\"Correct classes: {} of {} (accuracy: {})\".format(correct, 10000, correct/10000))"
      ],
      "metadata": {
        "colab": {
          "base_uri": "https://localhost:8080/"
        },
        "id": "_Lse3UzDW1fz",
        "outputId": "70ccd937-6315-40ec-d187-fb126397e3ba"
      },
      "execution_count": 17,
      "outputs": [
        {
          "output_type": "stream",
          "name": "stdout",
          "text": [
            "Correct classes: 9090 of 10000 (accuracy: 0.9089999794960022)\n"
          ]
        }
      ]
    }
  ],
  "metadata": {
    "accelerator": "GPU",
    "colab": {
      "collapsed_sections": [
        "x4HI2mpwlrcn"
      ],
      "provenance": [],
      "gpuType": "T4"
    },
    "kernelspec": {
      "display_name": "Python 3",
      "name": "python3"
    }
  },
  "nbformat": 4,
  "nbformat_minor": 0
}